{
 "cells": [
  {
   "cell_type": "code",
   "execution_count": 1,
   "metadata": {},
   "outputs": [],
   "source": [
    "import pandas as pd\n",
    "import numpy as np"
   ]
  },
  {
   "cell_type": "markdown",
   "metadata": {},
   "source": [
    "### Filepaths"
   ]
  },
  {
   "cell_type": "code",
   "execution_count": 2,
   "metadata": {},
   "outputs": [],
   "source": [
    "review_json_path = 'yelp_academic_dataset_review.json'\n",
    "business_json_path = 'yelp_academic_dataset_business.json'\n",
    "checkin_json_path = 'yelp_academic_dataset_review.json'"
   ]
  },
  {
   "cell_type": "markdown",
   "metadata": {},
   "source": [
    "### Reading Business Data"
   ]
  },
  {
   "cell_type": "code",
   "execution_count": 3,
   "metadata": {},
   "outputs": [],
   "source": [
    "df_b = pd.read_json(business_json_path, lines=True)"
   ]
  },
  {
   "cell_type": "code",
   "execution_count": 4,
   "metadata": {},
   "outputs": [
    {
     "data": {
      "text/html": [
       "<div>\n",
       "<style scoped>\n",
       "    .dataframe tbody tr th:only-of-type {\n",
       "        vertical-align: middle;\n",
       "    }\n",
       "\n",
       "    .dataframe tbody tr th {\n",
       "        vertical-align: top;\n",
       "    }\n",
       "\n",
       "    .dataframe thead th {\n",
       "        text-align: right;\n",
       "    }\n",
       "</style>\n",
       "<table border=\"1\" class=\"dataframe\">\n",
       "  <thead>\n",
       "    <tr style=\"text-align: right;\">\n",
       "      <th></th>\n",
       "      <th>business_id</th>\n",
       "      <th>name</th>\n",
       "      <th>address</th>\n",
       "      <th>city</th>\n",
       "      <th>state</th>\n",
       "      <th>postal_code</th>\n",
       "      <th>latitude</th>\n",
       "      <th>longitude</th>\n",
       "      <th>stars</th>\n",
       "      <th>review_count</th>\n",
       "      <th>is_open</th>\n",
       "      <th>attributes</th>\n",
       "      <th>categories</th>\n",
       "      <th>hours</th>\n",
       "    </tr>\n",
       "  </thead>\n",
       "  <tbody>\n",
       "    <tr>\n",
       "      <th>0</th>\n",
       "      <td>f9NumwFMBDn751xgFiRbNA</td>\n",
       "      <td>The Range At Lake Norman</td>\n",
       "      <td>10913 Bailey Rd</td>\n",
       "      <td>Cornelius</td>\n",
       "      <td>NC</td>\n",
       "      <td>28031</td>\n",
       "      <td>35.462724</td>\n",
       "      <td>-80.852612</td>\n",
       "      <td>3.5</td>\n",
       "      <td>36</td>\n",
       "      <td>1</td>\n",
       "      <td>{'BusinessAcceptsCreditCards': 'True', 'BikePa...</td>\n",
       "      <td>Active Life, Gun/Rifle Ranges, Guns &amp; Ammo, Sh...</td>\n",
       "      <td>{'Monday': '10:0-18:0', 'Tuesday': '11:0-20:0'...</td>\n",
       "    </tr>\n",
       "  </tbody>\n",
       "</table>\n",
       "</div>"
      ],
      "text/plain": [
       "              business_id                      name          address  \\\n",
       "0  f9NumwFMBDn751xgFiRbNA  The Range At Lake Norman  10913 Bailey Rd   \n",
       "\n",
       "        city state postal_code   latitude  longitude  stars  review_count  \\\n",
       "0  Cornelius    NC       28031  35.462724 -80.852612    3.5            36   \n",
       "\n",
       "   is_open                                         attributes  \\\n",
       "0        1  {'BusinessAcceptsCreditCards': 'True', 'BikePa...   \n",
       "\n",
       "                                          categories  \\\n",
       "0  Active Life, Gun/Rifle Ranges, Guns & Ammo, Sh...   \n",
       "\n",
       "                                               hours  \n",
       "0  {'Monday': '10:0-18:0', 'Tuesday': '11:0-20:0'...  "
      ]
     },
     "execution_count": 4,
     "metadata": {},
     "output_type": "execute_result"
    }
   ],
   "source": [
    "df_b.head(1)"
   ]
  },
  {
   "cell_type": "code",
   "execution_count": 5,
   "metadata": {},
   "outputs": [
    {
     "name": "stdout",
     "output_type": "stream",
     "text": [
      "<class 'pandas.core.frame.DataFrame'>\n",
      "RangeIndex: 209393 entries, 0 to 209392\n",
      "Data columns (total 14 columns):\n",
      " #   Column        Non-Null Count   Dtype  \n",
      "---  ------        --------------   -----  \n",
      " 0   business_id   209393 non-null  object \n",
      " 1   name          209393 non-null  object \n",
      " 2   address       209393 non-null  object \n",
      " 3   city          209393 non-null  object \n",
      " 4   state         209393 non-null  object \n",
      " 5   postal_code   209393 non-null  object \n",
      " 6   latitude      209393 non-null  float64\n",
      " 7   longitude     209393 non-null  float64\n",
      " 8   stars         209393 non-null  float64\n",
      " 9   review_count  209393 non-null  int64  \n",
      " 10  is_open       209393 non-null  int64  \n",
      " 11  attributes    180348 non-null  object \n",
      " 12  categories    208869 non-null  object \n",
      " 13  hours         164550 non-null  object \n",
      "dtypes: float64(3), int64(2), object(9)\n",
      "memory usage: 22.4+ MB\n"
     ]
    }
   ],
   "source": [
    "df_b.info()"
   ]
  },
  {
   "cell_type": "markdown",
   "metadata": {},
   "source": [
    "## Cleaning"
   ]
  },
  {
   "cell_type": "markdown",
   "metadata": {},
   "source": [
    "### Dropping Irrelevant Columns"
   ]
  },
  {
   "cell_type": "code",
   "execution_count": 6,
   "metadata": {},
   "outputs": [],
   "source": [
    "df_b = df_b.drop(columns = ['postal_code', 'address', 'latitude', 'longitude', 'hours'])"
   ]
  },
  {
   "cell_type": "markdown",
   "metadata": {},
   "source": [
    "### Filtering on Category = Restaurants"
   ]
  },
  {
   "cell_type": "code",
   "execution_count": 7,
   "metadata": {},
   "outputs": [],
   "source": [
    "df_b = df_b.loc[df_b.categories.str.contains(\"Restaurants\", na=False)]"
   ]
  },
  {
   "cell_type": "code",
   "execution_count": 8,
   "metadata": {},
   "outputs": [],
   "source": [
    "df_b = df_b.loc[df_b['city'] == 'Las Vegas']"
   ]
  },
  {
   "cell_type": "code",
   "execution_count": 9,
   "metadata": {},
   "outputs": [
    {
     "name": "stdout",
     "output_type": "stream",
     "text": [
      "<class 'pandas.core.frame.DataFrame'>\n",
      "Int64Index: 6931 entries, 36 to 209372\n",
      "Data columns (total 9 columns):\n",
      " #   Column        Non-Null Count  Dtype  \n",
      "---  ------        --------------  -----  \n",
      " 0   business_id   6931 non-null   object \n",
      " 1   name          6931 non-null   object \n",
      " 2   city          6931 non-null   object \n",
      " 3   state         6931 non-null   object \n",
      " 4   stars         6931 non-null   float64\n",
      " 5   review_count  6931 non-null   int64  \n",
      " 6   is_open       6931 non-null   int64  \n",
      " 7   attributes    6851 non-null   object \n",
      " 8   categories    6931 non-null   object \n",
      "dtypes: float64(1), int64(2), object(6)\n",
      "memory usage: 541.5+ KB\n"
     ]
    }
   ],
   "source": [
    "df_b.info()"
   ]
  },
  {
   "cell_type": "markdown",
   "metadata": {},
   "source": [
    "### NA Values"
   ]
  },
  {
   "cell_type": "code",
   "execution_count": 10,
   "metadata": {},
   "outputs": [
    {
     "data": {
      "text/plain": [
       "business_id      0\n",
       "name             0\n",
       "city             0\n",
       "state            0\n",
       "stars            0\n",
       "review_count     0\n",
       "is_open          0\n",
       "attributes      80\n",
       "categories       0\n",
       "dtype: int64"
      ]
     },
     "execution_count": 10,
     "metadata": {},
     "output_type": "execute_result"
    }
   ],
   "source": [
    "df_b.isna().sum()"
   ]
  },
  {
   "cell_type": "code",
   "execution_count": 11,
   "metadata": {},
   "outputs": [],
   "source": [
    "df_b = df_b[df_b['attributes'].notna()]"
   ]
  },
  {
   "cell_type": "code",
   "execution_count": 12,
   "metadata": {},
   "outputs": [
    {
     "data": {
      "text/html": [
       "<div>\n",
       "<style scoped>\n",
       "    .dataframe tbody tr th:only-of-type {\n",
       "        vertical-align: middle;\n",
       "    }\n",
       "\n",
       "    .dataframe tbody tr th {\n",
       "        vertical-align: top;\n",
       "    }\n",
       "\n",
       "    .dataframe thead th {\n",
       "        text-align: right;\n",
       "    }\n",
       "</style>\n",
       "<table border=\"1\" class=\"dataframe\">\n",
       "  <thead>\n",
       "    <tr style=\"text-align: right;\">\n",
       "      <th></th>\n",
       "      <th>business_id</th>\n",
       "      <th>name</th>\n",
       "      <th>city</th>\n",
       "      <th>state</th>\n",
       "      <th>stars</th>\n",
       "      <th>review_count</th>\n",
       "      <th>is_open</th>\n",
       "      <th>attributes</th>\n",
       "      <th>categories</th>\n",
       "    </tr>\n",
       "  </thead>\n",
       "  <tbody>\n",
       "    <tr>\n",
       "      <th>36</th>\n",
       "      <td>fnZrZlqW1Z8iWgTVDfv_MA</td>\n",
       "      <td>Carl's Jr</td>\n",
       "      <td>Las Vegas</td>\n",
       "      <td>NV</td>\n",
       "      <td>2.5</td>\n",
       "      <td>15</td>\n",
       "      <td>0</td>\n",
       "      <td>{'Alcohol': 'u'none'', 'WiFi': 'u'no'', 'GoodF...</td>\n",
       "      <td>Mexican, Restaurants, Fast Food</td>\n",
       "    </tr>\n",
       "  </tbody>\n",
       "</table>\n",
       "</div>"
      ],
      "text/plain": [
       "               business_id       name       city state  stars  review_count  \\\n",
       "36  fnZrZlqW1Z8iWgTVDfv_MA  Carl's Jr  Las Vegas    NV    2.5            15   \n",
       "\n",
       "    is_open                                         attributes  \\\n",
       "36        0  {'Alcohol': 'u'none'', 'WiFi': 'u'no'', 'GoodF...   \n",
       "\n",
       "                         categories  \n",
       "36  Mexican, Restaurants, Fast Food  "
      ]
     },
     "execution_count": 12,
     "metadata": {},
     "output_type": "execute_result"
    }
   ],
   "source": [
    "df_b.head(1)"
   ]
  },
  {
   "cell_type": "code",
   "execution_count": 13,
   "metadata": {},
   "outputs": [
    {
     "name": "stdout",
     "output_type": "stream",
     "text": [
      "<class 'pandas.core.frame.DataFrame'>\n",
      "Int64Index: 6851 entries, 36 to 209372\n",
      "Data columns (total 9 columns):\n",
      " #   Column        Non-Null Count  Dtype  \n",
      "---  ------        --------------  -----  \n",
      " 0   business_id   6851 non-null   object \n",
      " 1   name          6851 non-null   object \n",
      " 2   city          6851 non-null   object \n",
      " 3   state         6851 non-null   object \n",
      " 4   stars         6851 non-null   float64\n",
      " 5   review_count  6851 non-null   int64  \n",
      " 6   is_open       6851 non-null   int64  \n",
      " 7   attributes    6851 non-null   object \n",
      " 8   categories    6851 non-null   object \n",
      "dtypes: float64(1), int64(2), object(6)\n",
      "memory usage: 535.2+ KB\n"
     ]
    }
   ],
   "source": [
    "df_b.info()"
   ]
  },
  {
   "cell_type": "markdown",
   "metadata": {},
   "source": [
    "### Reading Review Data"
   ]
  },
  {
   "cell_type": "code",
   "execution_count": 14,
   "metadata": {},
   "outputs": [],
   "source": [
    "reviews_json = 'yelp_academic_dataset_review.json'\n",
    "size = 500000\n",
    "reviews = pd.read_json(reviews_json, lines=True,\n",
    "                      dtype={'review_id':str,'user_id':str,\n",
    "                             'business_id':str,'stars':int,\n",
    "                             'useful':int,'funny':int,'cool':int,\n",
    "                             'text':str},\n",
    "                      chunksize=size)"
   ]
  },
  {
   "cell_type": "code",
   "execution_count": 15,
   "metadata": {},
   "outputs": [
    {
     "name": "stdout",
     "output_type": "stream",
     "text": [
      "93378 out of 500,000 related reviews\n",
      "90030 out of 500,000 related reviews\n",
      "94107 out of 500,000 related reviews\n",
      "90089 out of 500,000 related reviews\n",
      "85891 out of 500,000 related reviews\n",
      "102245 out of 500,000 related reviews\n",
      "88658 out of 500,000 related reviews\n",
      "88173 out of 500,000 related reviews\n",
      "99172 out of 500,000 related reviews\n",
      "88571 out of 500,000 related reviews\n",
      "91923 out of 500,000 related reviews\n",
      "103631 out of 500,000 related reviews\n",
      "95000 out of 500,000 related reviews\n",
      "90476 out of 500,000 related reviews\n",
      "97007 out of 500,000 related reviews\n",
      "101127 out of 500,000 related reviews\n",
      "3287 out of 500,000 related reviews\n"
     ]
    }
   ],
   "source": [
    "chunk_list = []\n",
    "for chunk_review in reviews:\n",
    "    # Drop columns that aren't needed\n",
    "      ##chunk_review = chunk_review.drop(['review_id','useful','funny','cool'], axis=1)\n",
    "    # Renaming column name to avoid conflict with business overall star rating\n",
    "    chunk_review = chunk_review.rename(columns={'stars': 'review_stars'})\n",
    "    # Inner merge with edited business file so only reviews related to the business remain\n",
    "    chunk_merged = pd.merge(df_b, chunk_review, on='business_id', how='inner')\n",
    "    # Show feedback on progress\n",
    "    print(f\"{chunk_merged.shape[0]} out of {size:,} related reviews\")\n",
    "    chunk_list.append(chunk_merged)\n",
    "# After trimming down the review file, concatenate all relevant data back to one dataframe\n",
    "df_b = pd.concat(chunk_list, ignore_index=True, join='outer', axis=0)"
   ]
  },
  {
   "cell_type": "markdown",
   "metadata": {},
   "source": [
    "## Cleaned Data"
   ]
  },
  {
   "cell_type": "code",
   "execution_count": 16,
   "metadata": {},
   "outputs": [
    {
     "name": "stdout",
     "output_type": "stream",
     "text": [
      "<class 'pandas.core.frame.DataFrame'>\n",
      "RangeIndex: 1502765 entries, 0 to 1502764\n",
      "Data columns (total 17 columns):\n",
      " #   Column        Non-Null Count    Dtype         \n",
      "---  ------        --------------    -----         \n",
      " 0   business_id   1502765 non-null  object        \n",
      " 1   name          1502765 non-null  object        \n",
      " 2   city          1502765 non-null  object        \n",
      " 3   state         1502765 non-null  object        \n",
      " 4   stars         1502765 non-null  float64       \n",
      " 5   review_count  1502765 non-null  int64         \n",
      " 6   is_open       1502765 non-null  int64         \n",
      " 7   attributes    1502765 non-null  object        \n",
      " 8   categories    1502765 non-null  object        \n",
      " 9   review_id     1502765 non-null  object        \n",
      " 10  user_id       1502765 non-null  object        \n",
      " 11  review_stars  1502765 non-null  int64         \n",
      " 12  useful        1502765 non-null  int64         \n",
      " 13  funny         1502765 non-null  int64         \n",
      " 14  cool          1502765 non-null  int64         \n",
      " 15  text          1502765 non-null  object        \n",
      " 16  date          1502765 non-null  datetime64[ns]\n",
      "dtypes: datetime64[ns](1), float64(1), int64(6), object(9)\n",
      "memory usage: 194.9+ MB\n"
     ]
    }
   ],
   "source": [
    "df_b.info()"
   ]
  },
  {
   "cell_type": "code",
   "execution_count": 17,
   "metadata": {},
   "outputs": [
    {
     "data": {
      "text/html": [
       "<div>\n",
       "<style scoped>\n",
       "    .dataframe tbody tr th:only-of-type {\n",
       "        vertical-align: middle;\n",
       "    }\n",
       "\n",
       "    .dataframe tbody tr th {\n",
       "        vertical-align: top;\n",
       "    }\n",
       "\n",
       "    .dataframe thead th {\n",
       "        text-align: right;\n",
       "    }\n",
       "</style>\n",
       "<table border=\"1\" class=\"dataframe\">\n",
       "  <thead>\n",
       "    <tr style=\"text-align: right;\">\n",
       "      <th></th>\n",
       "      <th>business_id</th>\n",
       "      <th>name</th>\n",
       "      <th>city</th>\n",
       "      <th>state</th>\n",
       "      <th>stars</th>\n",
       "      <th>review_count</th>\n",
       "      <th>is_open</th>\n",
       "      <th>attributes</th>\n",
       "      <th>categories</th>\n",
       "      <th>review_id</th>\n",
       "      <th>user_id</th>\n",
       "      <th>review_stars</th>\n",
       "      <th>useful</th>\n",
       "      <th>funny</th>\n",
       "      <th>cool</th>\n",
       "      <th>text</th>\n",
       "      <th>date</th>\n",
       "    </tr>\n",
       "  </thead>\n",
       "  <tbody>\n",
       "    <tr>\n",
       "      <th>0</th>\n",
       "      <td>fnZrZlqW1Z8iWgTVDfv_MA</td>\n",
       "      <td>Carl's Jr</td>\n",
       "      <td>Las Vegas</td>\n",
       "      <td>NV</td>\n",
       "      <td>2.5</td>\n",
       "      <td>15</td>\n",
       "      <td>0</td>\n",
       "      <td>{'Alcohol': 'u'none'', 'WiFi': 'u'no'', 'GoodF...</td>\n",
       "      <td>Mexican, Restaurants, Fast Food</td>\n",
       "      <td>WUAt5-krh075Ie44np8Hew</td>\n",
       "      <td>YDkC5VVT8s9NlIZtAr8NUA</td>\n",
       "      <td>5</td>\n",
       "      <td>0</td>\n",
       "      <td>0</td>\n",
       "      <td>0</td>\n",
       "      <td>So why would I be giving a Fast Food chain loc...</td>\n",
       "      <td>2010-11-27 09:33:34</td>\n",
       "    </tr>\n",
       "    <tr>\n",
       "      <th>1</th>\n",
       "      <td>fnZrZlqW1Z8iWgTVDfv_MA</td>\n",
       "      <td>Carl's Jr</td>\n",
       "      <td>Las Vegas</td>\n",
       "      <td>NV</td>\n",
       "      <td>2.5</td>\n",
       "      <td>15</td>\n",
       "      <td>0</td>\n",
       "      <td>{'Alcohol': 'u'none'', 'WiFi': 'u'no'', 'GoodF...</td>\n",
       "      <td>Mexican, Restaurants, Fast Food</td>\n",
       "      <td>S9vIs-je49jqbhpWSQ8yHg</td>\n",
       "      <td>mxtalrN7VHVQwGjv8ln5yg</td>\n",
       "      <td>2</td>\n",
       "      <td>0</td>\n",
       "      <td>0</td>\n",
       "      <td>0</td>\n",
       "      <td>I come here bout 3x's a mo. &amp; I just can't do ...</td>\n",
       "      <td>2016-03-19 09:03:09</td>\n",
       "    </tr>\n",
       "    <tr>\n",
       "      <th>2</th>\n",
       "      <td>fnZrZlqW1Z8iWgTVDfv_MA</td>\n",
       "      <td>Carl's Jr</td>\n",
       "      <td>Las Vegas</td>\n",
       "      <td>NV</td>\n",
       "      <td>2.5</td>\n",
       "      <td>15</td>\n",
       "      <td>0</td>\n",
       "      <td>{'Alcohol': 'u'none'', 'WiFi': 'u'no'', 'GoodF...</td>\n",
       "      <td>Mexican, Restaurants, Fast Food</td>\n",
       "      <td>i2Soid_X8XsSTyIrPOst6g</td>\n",
       "      <td>xammeA3ftpFoAN13v5Blyg</td>\n",
       "      <td>1</td>\n",
       "      <td>2</td>\n",
       "      <td>0</td>\n",
       "      <td>0</td>\n",
       "      <td>WORST experience EVER!!!!! never have i ate an...</td>\n",
       "      <td>2015-04-02 06:14:51</td>\n",
       "    </tr>\n",
       "  </tbody>\n",
       "</table>\n",
       "</div>"
      ],
      "text/plain": [
       "              business_id       name       city state  stars  review_count  \\\n",
       "0  fnZrZlqW1Z8iWgTVDfv_MA  Carl's Jr  Las Vegas    NV    2.5            15   \n",
       "1  fnZrZlqW1Z8iWgTVDfv_MA  Carl's Jr  Las Vegas    NV    2.5            15   \n",
       "2  fnZrZlqW1Z8iWgTVDfv_MA  Carl's Jr  Las Vegas    NV    2.5            15   \n",
       "\n",
       "   is_open                                         attributes  \\\n",
       "0        0  {'Alcohol': 'u'none'', 'WiFi': 'u'no'', 'GoodF...   \n",
       "1        0  {'Alcohol': 'u'none'', 'WiFi': 'u'no'', 'GoodF...   \n",
       "2        0  {'Alcohol': 'u'none'', 'WiFi': 'u'no'', 'GoodF...   \n",
       "\n",
       "                        categories               review_id  \\\n",
       "0  Mexican, Restaurants, Fast Food  WUAt5-krh075Ie44np8Hew   \n",
       "1  Mexican, Restaurants, Fast Food  S9vIs-je49jqbhpWSQ8yHg   \n",
       "2  Mexican, Restaurants, Fast Food  i2Soid_X8XsSTyIrPOst6g   \n",
       "\n",
       "                  user_id  review_stars  useful  funny  cool  \\\n",
       "0  YDkC5VVT8s9NlIZtAr8NUA             5       0      0     0   \n",
       "1  mxtalrN7VHVQwGjv8ln5yg             2       0      0     0   \n",
       "2  xammeA3ftpFoAN13v5Blyg             1       2      0     0   \n",
       "\n",
       "                                                text                date  \n",
       "0  So why would I be giving a Fast Food chain loc... 2010-11-27 09:33:34  \n",
       "1  I come here bout 3x's a mo. & I just can't do ... 2016-03-19 09:03:09  \n",
       "2  WORST experience EVER!!!!! never have i ate an... 2015-04-02 06:14:51  "
      ]
     },
     "execution_count": 17,
     "metadata": {},
     "output_type": "execute_result"
    }
   ],
   "source": [
    "df_b.head(3)"
   ]
  },
  {
   "cell_type": "code",
   "execution_count": 18,
   "metadata": {},
   "outputs": [],
   "source": [
    "jap = df_b.loc[df_b.categories.str.contains(\"Japanese\", na=False)]"
   ]
  },
  {
   "cell_type": "code",
   "execution_count": 19,
   "metadata": {},
   "outputs": [
    {
     "name": "stdout",
     "output_type": "stream",
     "text": [
      "<class 'pandas.core.frame.DataFrame'>\n",
      "Int64Index: 148224 entries, 301 to 1502716\n",
      "Data columns (total 17 columns):\n",
      " #   Column        Non-Null Count   Dtype         \n",
      "---  ------        --------------   -----         \n",
      " 0   business_id   148224 non-null  object        \n",
      " 1   name          148224 non-null  object        \n",
      " 2   city          148224 non-null  object        \n",
      " 3   state         148224 non-null  object        \n",
      " 4   stars         148224 non-null  float64       \n",
      " 5   review_count  148224 non-null  int64         \n",
      " 6   is_open       148224 non-null  int64         \n",
      " 7   attributes    148224 non-null  object        \n",
      " 8   categories    148224 non-null  object        \n",
      " 9   review_id     148224 non-null  object        \n",
      " 10  user_id       148224 non-null  object        \n",
      " 11  review_stars  148224 non-null  int64         \n",
      " 12  useful        148224 non-null  int64         \n",
      " 13  funny         148224 non-null  int64         \n",
      " 14  cool          148224 non-null  int64         \n",
      " 15  text          148224 non-null  object        \n",
      " 16  date          148224 non-null  datetime64[ns]\n",
      "dtypes: datetime64[ns](1), float64(1), int64(6), object(9)\n",
      "memory usage: 20.4+ MB\n"
     ]
    }
   ],
   "source": [
    "jap.info()"
   ]
  },
  {
   "cell_type": "code",
   "execution_count": 20,
   "metadata": {},
   "outputs": [
    {
     "data": {
      "text/plain": [
       "array(['Veggie House', 'Bonsai Japanese Steak & Sushi',\n",
       "       'Yummy Grill & Sushi', 'Oaka Sushi House', 'Mumfresh Asian Eats',\n",
       "       'Tatsujin X', 'Sojo Ramen', 'Cafe Sanuki', 'Sakana', 'Teriyaki',\n",
       "       'Super Sushi', 'Kan Pai Sushi', 'Anime Ramen & Teriyaki',\n",
       "       'Yagyu Yakiniku', 'The SLS Buffet', 'Sweet Poké', 'Cafe de Japon',\n",
       "       'BeeGee Kitchen', 'Zenshin Asian Restaurant', 'Sake Rok',\n",
       "       'Teriyaki Madness', 'Taiga Modern Japanese & Thai Restaurant',\n",
       "       'Zen Kitchen', 'Hachi', 'Hanabi Sushi and Rolls', 'Gogo Poke LV',\n",
       "       'KUMI by Chef Akira Back', 'Tiger Sushi', 'Su Casa',\n",
       "       'Ramen Arashi', 'Chop Chop Wok', 'Gangnam Street', 'Yum Yum BBQ',\n",
       "       \"Brian's Beach Sushi\", 'Tokyo Peking Asian Restaurants',\n",
       "       'Sushi 21', 'Konbea Belt Sushi', 'Kazuki Sushi', '3pm Cafe',\n",
       "       'Spa Aquae', 'Sushi Mon', 'Ninja Teriyaki - Sushi 2 Go',\n",
       "       'Ohjah Japanese Steakhouse', 'Shabu Grill', 'Ginseng 3',\n",
       "       'Izakaya Cocokala', 'Body Sushi Catering', 'Sushi + Sake',\n",
       "       'Ramen Noodle', 'Sapporo Japanese Steakhouse & Revolving Sushi',\n",
       "       'Hyakumi Japanese Restaurant & Sushi Bar', 'Morimoto', 'Makino',\n",
       "       'Honmachi', 'Island Style Restaurant', 'Lahaina Grill',\n",
       "       'Teriyaki Boy Healthy Grill', 'Gangnam Asian BBQ Dining',\n",
       "       'LVH - Las Vegas Hotel & Casino', 'Sushi Kame',\n",
       "       'Go Wild Sushi & Grill', 'Yojié Japanese Fondue',\n",
       "       'Hikari Sushi & Teppanyaki', 'Sushi Avenue & Steak House',\n",
       "       'Noodle House', 'Curry Hut', 'Sansei Japanese Cuisine',\n",
       "       'Ramen Tatsu', 'Fulton Street Food Hall', 'Yusho', 'Suki Hana',\n",
       "       'Shin Yakitori House', 'Shobu', 'Togoshi Ramen',\n",
       "       'Geisha House Steak & Sushi', 'Udon Monzo', 'Truk-N-Yaki',\n",
       "       'Hokaido Sushi', 'Chubby Cattle', 'Kikuhana Japanese Restaurant',\n",
       "       'Jaburritos', 'Kabuto', 'Sushi Factory', 'Katsuya', 'Shintaro',\n",
       "       'Sushi Kaya', 'Monta Japanese Noodle House', 'Shuseki', 'T-Bones',\n",
       "       'Sushi Hero', 'H2O Sushi & Izakaya',\n",
       "       'Ohjah Japanese Steakhouse Sushi & Hibachi Flamingo',\n",
       "       'Samurai Japanese BBQ and Grill', 'Ramen Shibire',\n",
       "       'Chabi Green Tea Days', 'Tomi Ramen', 'Soru Ramen', 'Once',\n",
       "       'Tokyoto Sushi', 'Tomo Sushi', \"Miko's Izakaya\", 'Hamada of Japan',\n",
       "       'Sushi Hana', 'Oodle Noodle', 'Sushi 88', 'Swish',\n",
       "       'Shizen Japanese Restaurant', 'Nagoya Japanese Restaurant',\n",
       "       'Hoso Sushi & Lobster Restaurant', 'Teriyaki House', 'Ramen Kobo',\n",
       "       'Hello Tokyo', 'A18 I Love Crab & Karaoke', 'Sushi Hiro',\n",
       "       'Pumi Chinese Restaurant', 'Kobe Sushi Bistro',\n",
       "       'Sushi House Goyemon', 'Koraku Ramen', 'Sushi Wabi',\n",
       "       'Buffet At Asia',\n",
       "       'Winter In July - A Pop-Up Lunch with Yonaka and Snow Shavery',\n",
       "       'Nobu Restaurant', 'Pretty Girls Maid Cafe',\n",
       "       'Yellowtail by Chef Akira Back', 'Tokyo Sushi House',\n",
       "       'Ramen House', 'Nara Teppan', 'Sushi King', 'Chanko Shabu & Bar',\n",
       "       'Ramen123', 'Sushi House', 'Japaneiro', '8 Noodle Bar',\n",
       "       'Jjanga Steak & Sushi', 'Sushi Loca', 'barMASA',\n",
       "       'Blue Fin Sushi & Roll', 'Sasa Sushi', 'Oyshi Sushi',\n",
       "       'Umezono Sushi and Japanese Grill', 'Xtreme Sushi',\n",
       "       'Gyu-Kaku Japanese BBQ', 'Sapporo', 'Soho Sushi Burrito',\n",
       "       'Kame Omakase and Kaiseki', 'Paid In Full', '808 Tapas',\n",
       "       'Kaizen Fusion Roll & Sushi', 'Sapporo Revolving Sushi',\n",
       "       'Cafe Wasabi', 'GO!KU J-Wraps & Ramen', 'Zen Curry Express',\n",
       "       'Sushi Zone', 'Eat N Play', 'Food To Homes', 'Ramen Show',\n",
       "       'Hana Ramen', 'Kaizen Revolving Sushi', 'ChinaLatina',\n",
       "       'Louie Louie Hibachi & Sushi On The Road', 'Kaisho Sushi + Ramen',\n",
       "       'Sushi Takashi', 'TAO Asian Bistro', 'Rice Trax Teriyaki Grill',\n",
       "       'Sekushi Japanese Restaurant', 'Swish Shabu Shabu', 'Krazy Sushi',\n",
       "       'Sushiro', 'Benihana', 'Ramen Kobo+Sake', 'China A Go Go',\n",
       "       'Inaka Sushi', \"Samurai Sam's\", 'Shibuya', \"Ted's Sushi Burrito\",\n",
       "       'Haza', 'Yonaka Modern Japanese', 'Mexipanese',\n",
       "       'FUWA Teppanyaki Grill', 'Ramen Sora', 'I-Naba', 'Sushi Boy Desu',\n",
       "       'Ohjah Noodle House', 'Sushi Cruise', 'Nobu Las Vegas',\n",
       "       'Tsunami Asian Grill & Sushi Bar', 'H2O Poke & Sushi Burrito',\n",
       "       'zuma', 'Todai Restaurant', 'Kaiseki Yuzu',\n",
       "       'Oodolee Sushi & Grill', 'Izakaya Go', 'Japanese Cuisine By Omae',\n",
       "       'Okada', 'Sushi Fever', 'Galanga Thai Eatery',\n",
       "       'Nagano Sushi & Grill', 'Sushi Koma', 'Gorilla Sushi',\n",
       "       'Hibachi-San', 'Bar Sake & Robata Grill', 'JINYA Ramen Bar',\n",
       "       'Fuji', 'HEIGHT japanese cutlet', 'Express Hibachi',\n",
       "       'Chosun Hwaro', 'Cafe Mitz', 'Sushi On Tropicana',\n",
       "       'Tokyo Japanese Restaurant', 'Takopa', 'Bar Charlie',\n",
       "       'Tiger Wok & Ramen', 'Soho Japanese Restaurant',\n",
       "       'Yui Edomae Sushi', 'Sushi On Rainbow', 'Noodle Show',\n",
       "       'Osaka Japanese Bistro', 'Ichiza', 'Shoku Ramen', 'Sushi Banzai',\n",
       "       'California Noodle House', 'Lava Grill', 'Rikki Tiki Sushi',\n",
       "       'Ohjah Japanese Steakhouse Hibachi', 'Jasmine', 'Poke Heaven',\n",
       "       'Sushic', 'Sushi Moto', 'China Roll', 'Sunny Kitchen',\n",
       "       'Hiromaru Fusion Ramen', \"Mom's Teriyaki\",\n",
       "       'Blue Ribbon Sushi Bar and Grill', 'Tokyo Kitchen', 'Umiya Sushi',\n",
       "       'Tekka Bar: Handroll & Sake', '172 Live Music',\n",
       "       'Well Being In The Box', 'Rock n Roll Sushi',\n",
       "       'Yellowfin Sushi & Grill', 'Omoide Noodles & Bowls',\n",
       "       'Tomo Noodles and Dumplings', 'SUSHISAMBA - Las Vegas',\n",
       "       'Osaka Summerlin', 'Silk Road Asian Bistro', 'Tokyo Grill Express',\n",
       "       'Makino Sushi & Seafood Buffet', 'Nabe Hotpot',\n",
       "       'Nagoya Japanese Restaurant & Korean BBQ', 'Mr Poké Bowls & Rolls',\n",
       "       'Go!ku', 'Ichiban West', 'Yu-Yu', \"Wasabi Jane's Venetiaen\",\n",
       "       'Jogasaki Sushi Burrito Vegas', 'California Sushi Burrito',\n",
       "       'Bentto Rock 1', 'Umami', 'Japonais',\n",
       "       'Rising Sun Japanese Restaurant & Sushi Bar', 'Ah Sin',\n",
       "       'Tail and Fin', 'Fuji San', 'Moko Ramen Bar',\n",
       "       'Ku Noodle by José Andrés', 'Kaba Curry',\n",
       "       'Jaburritos Sushi Burritos', 'Hyakumi', 'Bonsai Sushi Burrito',\n",
       "       'Kobe Sushi Bar', 'Sushi In Summerlin', 'Hatsumi',\n",
       "       'Kura Revolving Sushi Bar', 'Sushi Tower & Steakhouse',\n",
       "       'Ninja Teriyaki, Sushi & Noodle', 'Naka Sushi', 'Yoshinoya',\n",
       "       'Island Sushi & Grill', 'Sushi Yamaguchi',\n",
       "       \"Tetsuro's Sayonara, Aloha, Going Away Uye At Japanese Curry n\",\n",
       "       'Maui Rose Hawaiian BBQ', 'Chabuya', 'KoKoRo Ramen',\n",
       "       'Tonkatsu Kiyoshi', 'The Grand Wok and Sushi Bar', 'Sushi Way',\n",
       "       'Kuben', 'Shilla Korean BBQ', 'Fukumimi Ramen',\n",
       "       \"Naked Fish's Sushi & Grill\", 'Lucky Fish Sushi & Grill',\n",
       "       'Social House', 'Arata Sushi & Bowl', 'Itsy Bitsy', 'Teppan Bento',\n",
       "       'Mizuya', 'Daisho Sushi', 'Sushi Twister',\n",
       "       'Lucky Star Chinese & Japanese Buffet', 'Ono Sushi', 'Pan Asian',\n",
       "       'Kaze Sushi', 'Sushi House Manda', 'YOBO', 'Nina',\n",
       "       'The Teriyaki Company', 'Kabuki Dining Bar', 'Pier 215',\n",
       "       'Shinya Maru Ramen & Izakaya', 'Ramen Hashi', 'Bocho Sushi',\n",
       "       'Yogis Teriyaki House', 'Sizzle Hut', 'Bluebei Sushi & Grill',\n",
       "       'Hayashi Japanese Cuisine', 'Bazic Bar & Karaoke', 'Sushi Katsu',\n",
       "       'Homi-Ya Ramen', 'Xtreme Sushi & Sterling Steakhouse',\n",
       "       'Kushiyaki Inyo', 'Aloha Specialties', 'Ichiban Sushi',\n",
       "       'Volcano Grille', 'Hokkaido Teppanyaki Steak House', 'Sushi Neko',\n",
       "       'RA Sushi Bar Restaurant', 'OTORO Robata Grill & Sushi',\n",
       "       'Koji Sushi Bar and China Bistro', 'Arata Sushi', 'Yagyu Ramen',\n",
       "       'To See Roll', 'Sushi Ya Las Vegas', 'Nozomi Sushi',\n",
       "       'Trattoria Nakamura-Ya', 'Satoya',\n",
       "       'Ohjah Japanese Steakhouse Sushi & Hibachi',\n",
       "       'Kaizen Fusion Roll and Sushi', 'Yoko Hama Sushi', 'Soulfish Poke',\n",
       "       'Kabuki Japanese Restaurant', 'Narita Sushi Bar', 'Oh! Curry',\n",
       "       'O-my Sushi', 'Ichiban Express', 'Namu Shabu Bar', 'Monta Chaya',\n",
       "       'Sansei Japan', 'Ton Ton Katsuya', 'Grinds 2 Da Max', '808 Sushi',\n",
       "       'BF Sushi', 'RED Asian Cuisine', 'Kanji Steak and Sushi',\n",
       "       \"Ray's Asian Cuisine and House of Ramen\", 'Ichi Ramen House',\n",
       "       'Sushi Hiroyoshi Japanese Cuisine', 'Kai Sushi and Steakhouse',\n",
       "       'Tetsu', 'Yokohama Kaigenro', 'Fuji Japanese Restaurant',\n",
       "       'Kyara Japanese Tapas', 'Biwon Korean BBQ & Sushi Restaurant',\n",
       "       'Sin City Sushi', 'Musashi Japanese Steakhouse', 'Sushi Roku',\n",
       "       'Koi Restaurant', 'Teriyaki Time', 'Ondori Asian Kitchen',\n",
       "       'The Ka', 'Japanese Curry Zen', 'Ramen-Ya', 'Rising Sun',\n",
       "       'Momoyama Sushi', 'Sakura Japanese Cuisine', 'Sen of Japan',\n",
       "       'Yatai Japanese Grill & Pub', 'Pokeman', 'Sushi Bar Sage',\n",
       "       'Mizumi', 'Sweets Raku', 'Yama Sushi', 'East Boy', 'Aloha A Go Go',\n",
       "       'Ichiban', 'Sushi Bomb', 'Boathouse Asian Eatery', 'Raku',\n",
       "       'Chinos Locos', 'Poukei', 'Tokyo Peking Asian Restaurant',\n",
       "       'Blue Sea Sushi and Izakaya', 'Garlic Yuzu', 'A18 Baraoke'],\n",
       "      dtype=object)"
      ]
     },
     "execution_count": 20,
     "metadata": {},
     "output_type": "execute_result"
    }
   ],
   "source": [
    "jap['name'].unique()"
   ]
  },
  {
   "cell_type": "markdown",
   "metadata": {},
   "source": [
    "## Export DF "
   ]
  },
  {
   "cell_type": "code",
   "execution_count": 21,
   "metadata": {},
   "outputs": [],
   "source": [
    "df_b.to_json('cleaned_data.json')"
   ]
  },
  {
   "cell_type": "code",
   "execution_count": 22,
   "metadata": {},
   "outputs": [],
   "source": [
    "jap.to_json('jap.json')"
   ]
  }
 ],
 "metadata": {
  "kernelspec": {
   "display_name": "Python 3",
   "language": "python",
   "name": "python3"
  },
  "language_info": {
   "codemirror_mode": {
    "name": "ipython",
    "version": 3
   },
   "file_extension": ".py",
   "mimetype": "text/x-python",
   "name": "python",
   "nbconvert_exporter": "python",
   "pygments_lexer": "ipython3",
   "version": "3.8.3"
  }
 },
 "nbformat": 4,
 "nbformat_minor": 4
}
