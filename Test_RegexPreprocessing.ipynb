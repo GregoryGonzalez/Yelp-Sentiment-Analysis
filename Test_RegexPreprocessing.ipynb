{
 "cells": [
  {
   "cell_type": "code",
   "execution_count": 29,
   "metadata": {},
   "outputs": [],
   "source": [
    "import pandas as pd\n",
    "import numpy as np\n",
    "import re\n",
    "import matplotlib.pyplot as plt\n",
    "import nltk"
   ]
  },
  {
   "cell_type": "code",
   "execution_count": 30,
   "metadata": {},
   "outputs": [],
   "source": [
    "df = pd.read_json('cleaned_data.json')"
   ]
  },
  {
   "cell_type": "code",
   "execution_count": 31,
   "metadata": {},
   "outputs": [
    {
     "data": {
      "text/html": [
       "<div>\n",
       "<style scoped>\n",
       "    .dataframe tbody tr th:only-of-type {\n",
       "        vertical-align: middle;\n",
       "    }\n",
       "\n",
       "    .dataframe tbody tr th {\n",
       "        vertical-align: top;\n",
       "    }\n",
       "\n",
       "    .dataframe thead th {\n",
       "        text-align: right;\n",
       "    }\n",
       "</style>\n",
       "<table border=\"1\" class=\"dataframe\">\n",
       "  <thead>\n",
       "    <tr style=\"text-align: right;\">\n",
       "      <th></th>\n",
       "      <th>business_id</th>\n",
       "      <th>name</th>\n",
       "      <th>city</th>\n",
       "      <th>state</th>\n",
       "      <th>stars</th>\n",
       "      <th>review_count</th>\n",
       "      <th>is_open</th>\n",
       "      <th>attributes</th>\n",
       "      <th>categories</th>\n",
       "      <th>review_id</th>\n",
       "      <th>user_id</th>\n",
       "      <th>review_stars</th>\n",
       "      <th>useful</th>\n",
       "      <th>funny</th>\n",
       "      <th>cool</th>\n",
       "      <th>text</th>\n",
       "      <th>date</th>\n",
       "    </tr>\n",
       "  </thead>\n",
       "  <tbody>\n",
       "    <tr>\n",
       "      <th>0</th>\n",
       "      <td>lu7vtrp_bE9PnxWfA8g4Pg</td>\n",
       "      <td>Banzai Sushi</td>\n",
       "      <td>Thornhill</td>\n",
       "      <td>ON</td>\n",
       "      <td>4.5</td>\n",
       "      <td>7</td>\n",
       "      <td>1</td>\n",
       "      <td>{'GoodForKids': 'True', 'RestaurantsTakeOut': ...</td>\n",
       "      <td>Japanese, Fast Food, Food Court, Restaurants</td>\n",
       "      <td>Q7iupWCt3UpRQSMKp4zO9A</td>\n",
       "      <td>dSTRQSeCqMTbs7l8KF_xJg</td>\n",
       "      <td>4</td>\n",
       "      <td>1</td>\n",
       "      <td>0</td>\n",
       "      <td>0</td>\n",
       "      <td>Been coming here since I was in grade 9 so abo...</td>\n",
       "      <td>2015-04-16 05:23:15</td>\n",
       "    </tr>\n",
       "  </tbody>\n",
       "</table>\n",
       "</div>"
      ],
      "text/plain": [
       "              business_id          name       city state  stars  review_count  \\\n",
       "0  lu7vtrp_bE9PnxWfA8g4Pg  Banzai Sushi  Thornhill    ON    4.5             7   \n",
       "\n",
       "   is_open                                         attributes  \\\n",
       "0        1  {'GoodForKids': 'True', 'RestaurantsTakeOut': ...   \n",
       "\n",
       "                                     categories               review_id  \\\n",
       "0  Japanese, Fast Food, Food Court, Restaurants  Q7iupWCt3UpRQSMKp4zO9A   \n",
       "\n",
       "                  user_id  review_stars  useful  funny  cool  \\\n",
       "0  dSTRQSeCqMTbs7l8KF_xJg             4       1      0     0   \n",
       "\n",
       "                                                text                date  \n",
       "0  Been coming here since I was in grade 9 so abo... 2015-04-16 05:23:15  "
      ]
     },
     "execution_count": 31,
     "metadata": {},
     "output_type": "execute_result"
    }
   ],
   "source": [
    "df.head(1)"
   ]
  },
  {
   "cell_type": "markdown",
   "metadata": {},
   "source": [
    "## Text Preprocessing"
   ]
  },
  {
   "cell_type": "markdown",
   "metadata": {},
   "source": [
    "### Import Tokenizer and Stopwords"
   ]
  },
  {
   "cell_type": "code",
   "execution_count": 32,
   "metadata": {},
   "outputs": [],
   "source": [
    "wpt=nltk.WordPunctTokenizer()\n",
    "stop_words=nltk.corpus.stopwords.words('english')"
   ]
  },
  {
   "cell_type": "markdown",
   "metadata": {},
   "source": [
    "### Preprocessing Pipeline"
   ]
  },
  {
   "cell_type": "code",
   "execution_count": 33,
   "metadata": {},
   "outputs": [],
   "source": [
    "def normalize_document (doc):\n",
    "    doc=re.sub(r'[^a-zA-Z\\s]', '', doc) \n",
    "    doc=doc.lower()\n",
    "    doc=doc.strip()\n",
    "    \n",
    "    tokens=wpt.tokenize(doc)\n",
    "\n",
    "    filtered_tokens=[token for token in tokens if token not in stop_words]\n",
    "\n",
    "    doc=' '.join(filtered_tokens)\n",
    "    return doc"
   ]
  },
  {
   "cell_type": "code",
   "execution_count": 34,
   "metadata": {},
   "outputs": [],
   "source": [
    "text_column = df['text']\n",
    "normalize_corpus=np.vectorize(normalize_document)\n",
    "norm_corpus = normalize_corpus(text_column)"
   ]
  },
  {
   "cell_type": "code",
   "execution_count": 35,
   "metadata": {},
   "outputs": [
    {
     "data": {
      "text/plain": [
       "'great sushi unbeatable prices downfall cash close pm'"
      ]
     },
     "execution_count": 35,
     "metadata": {},
     "output_type": "execute_result"
    }
   ],
   "source": [
    "norm_corpus[1]"
   ]
  },
  {
   "cell_type": "code",
   "execution_count": 36,
   "metadata": {},
   "outputs": [],
   "source": [
    "df['text_preprocessed'] = norm_corpus"
   ]
  },
  {
   "cell_type": "code",
   "execution_count": 37,
   "metadata": {},
   "outputs": [
    {
     "data": {
      "text/html": [
       "<div>\n",
       "<style scoped>\n",
       "    .dataframe tbody tr th:only-of-type {\n",
       "        vertical-align: middle;\n",
       "    }\n",
       "\n",
       "    .dataframe tbody tr th {\n",
       "        vertical-align: top;\n",
       "    }\n",
       "\n",
       "    .dataframe thead th {\n",
       "        text-align: right;\n",
       "    }\n",
       "</style>\n",
       "<table border=\"1\" class=\"dataframe\">\n",
       "  <thead>\n",
       "    <tr style=\"text-align: right;\">\n",
       "      <th></th>\n",
       "      <th>business_id</th>\n",
       "      <th>name</th>\n",
       "      <th>city</th>\n",
       "      <th>state</th>\n",
       "      <th>stars</th>\n",
       "      <th>review_count</th>\n",
       "      <th>is_open</th>\n",
       "      <th>attributes</th>\n",
       "      <th>categories</th>\n",
       "      <th>review_id</th>\n",
       "      <th>user_id</th>\n",
       "      <th>review_stars</th>\n",
       "      <th>useful</th>\n",
       "      <th>funny</th>\n",
       "      <th>cool</th>\n",
       "      <th>text</th>\n",
       "      <th>date</th>\n",
       "      <th>text_preprocessed</th>\n",
       "    </tr>\n",
       "  </thead>\n",
       "  <tbody>\n",
       "    <tr>\n",
       "      <th>0</th>\n",
       "      <td>lu7vtrp_bE9PnxWfA8g4Pg</td>\n",
       "      <td>Banzai Sushi</td>\n",
       "      <td>Thornhill</td>\n",
       "      <td>ON</td>\n",
       "      <td>4.5</td>\n",
       "      <td>7</td>\n",
       "      <td>1</td>\n",
       "      <td>{'GoodForKids': 'True', 'RestaurantsTakeOut': ...</td>\n",
       "      <td>Japanese, Fast Food, Food Court, Restaurants</td>\n",
       "      <td>Q7iupWCt3UpRQSMKp4zO9A</td>\n",
       "      <td>dSTRQSeCqMTbs7l8KF_xJg</td>\n",
       "      <td>4</td>\n",
       "      <td>1</td>\n",
       "      <td>0</td>\n",
       "      <td>0</td>\n",
       "      <td>Been coming here since I was in grade 9 so abo...</td>\n",
       "      <td>2015-04-16 05:23:15</td>\n",
       "      <td>coming since grade years wow staff friendly pr...</td>\n",
       "    </tr>\n",
       "  </tbody>\n",
       "</table>\n",
       "</div>"
      ],
      "text/plain": [
       "              business_id          name       city state  stars  review_count  \\\n",
       "0  lu7vtrp_bE9PnxWfA8g4Pg  Banzai Sushi  Thornhill    ON    4.5             7   \n",
       "\n",
       "   is_open                                         attributes  \\\n",
       "0        1  {'GoodForKids': 'True', 'RestaurantsTakeOut': ...   \n",
       "\n",
       "                                     categories               review_id  \\\n",
       "0  Japanese, Fast Food, Food Court, Restaurants  Q7iupWCt3UpRQSMKp4zO9A   \n",
       "\n",
       "                  user_id  review_stars  useful  funny  cool  \\\n",
       "0  dSTRQSeCqMTbs7l8KF_xJg             4       1      0     0   \n",
       "\n",
       "                                                text                date  \\\n",
       "0  Been coming here since I was in grade 9 so abo... 2015-04-16 05:23:15   \n",
       "\n",
       "                                   text_preprocessed  \n",
       "0  coming since grade years wow staff friendly pr...  "
      ]
     },
     "execution_count": 37,
     "metadata": {},
     "output_type": "execute_result"
    }
   ],
   "source": [
    "df.head(1)"
   ]
  },
  {
   "cell_type": "markdown",
   "metadata": {},
   "source": [
    "## Filtering on Location = Los Angeles"
   ]
  },
  {
   "cell_type": "code",
   "execution_count": 47,
   "metadata": {},
   "outputs": [],
   "source": [
    "y = df.loc[df['state'] == 'MN']"
   ]
  },
  {
   "cell_type": "code",
   "execution_count": 48,
   "metadata": {},
   "outputs": [
    {
     "name": "stdout",
     "output_type": "stream",
     "text": [
      "<class 'pandas.core.frame.DataFrame'>\n",
      "Int64Index: 0 entries\n",
      "Data columns (total 18 columns):\n",
      " #   Column             Non-Null Count  Dtype         \n",
      "---  ------             --------------  -----         \n",
      " 0   business_id        0 non-null      object        \n",
      " 1   name               0 non-null      object        \n",
      " 2   city               0 non-null      object        \n",
      " 3   state              0 non-null      object        \n",
      " 4   stars              0 non-null      float64       \n",
      " 5   review_count       0 non-null      int64         \n",
      " 6   is_open            0 non-null      int64         \n",
      " 7   attributes         0 non-null      object        \n",
      " 8   categories         0 non-null      object        \n",
      " 9   review_id          0 non-null      object        \n",
      " 10  user_id            0 non-null      object        \n",
      " 11  review_stars       0 non-null      int64         \n",
      " 12  useful             0 non-null      int64         \n",
      " 13  funny              0 non-null      int64         \n",
      " 14  cool               0 non-null      int64         \n",
      " 15  text               0 non-null      object        \n",
      " 16  date               0 non-null      datetime64[ns]\n",
      " 17  text_preprocessed  0 non-null      object        \n",
      "dtypes: datetime64[ns](1), float64(1), int64(6), object(10)\n",
      "memory usage: 0.0+ bytes\n"
     ]
    }
   ],
   "source": [
    "y.info()"
   ]
  },
  {
   "cell_type": "code",
   "execution_count": null,
   "metadata": {},
   "outputs": [],
   "source": []
  }
 ],
 "metadata": {
  "kernelspec": {
   "display_name": "Python 3",
   "language": "python",
   "name": "python3"
  },
  "language_info": {
   "codemirror_mode": {
    "name": "ipython",
    "version": 3
   },
   "file_extension": ".py",
   "mimetype": "text/x-python",
   "name": "python",
   "nbconvert_exporter": "python",
   "pygments_lexer": "ipython3",
   "version": "3.8.3"
  }
 },
 "nbformat": 4,
 "nbformat_minor": 4
}
